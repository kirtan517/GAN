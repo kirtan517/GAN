{
 "cells": [
  {
   "cell_type": "code",
   "execution_count": 3,
   "id": "2ad64689",
   "metadata": {},
   "outputs": [],
   "source": [
    "import torch \n",
    "import torch.nn as nn\n",
    "import torch.optim as optim\n",
    "import torchvision\n",
    "import torchvision.datasets as datasets \n",
    "from torch.utils.data import DataLoader\n",
    "from torchvision.transforms import transforms\n",
    "from torch.utils.tensorboard import SummaryWriter"
   ]
  },
  {
   "cell_type": "code",
   "execution_count": null,
   "id": "0c464d47",
   "metadata": {},
   "outputs": [],
   "source": [
    "conda install pytorch torchvision torchaudio cudatoolkit=11.1 -c pytorch -c conda-forge"
   ]
  },
  {
   "cell_type": "code",
   "execution_count": null,
   "id": "224ac830",
   "metadata": {},
   "outputs": [],
   "source": [
    "os.environ['CUDA_LAUNCH_BLOCKING']= \"1\""
   ]
  },
  {
   "cell_type": "code",
   "execution_count": 2,
   "id": "3da11fa4",
   "metadata": {},
   "outputs": [],
   "source": [
    "import os"
   ]
  },
  {
   "cell_type": "code",
   "execution_count": 4,
   "id": "fed745bb",
   "metadata": {},
   "outputs": [
    {
     "data": {
      "text/plain": [
       "environ{'ALLUSERSPROFILE': 'C:\\\\ProgramData',\n",
       "        'APPDATA': 'C:\\\\Users\\\\kanan\\\\AppData\\\\Roaming',\n",
       "        'ASL.LOG': 'Destination=file',\n",
       "        'CHOCOLATEYINSTALL': 'C:\\\\ProgramData\\\\chocolatey',\n",
       "        'CHOCOLATEYLASTPATHUPDATE': '132607965707908918',\n",
       "        'COMMONPROGRAMFILES': 'C:\\\\Program Files\\\\Common Files',\n",
       "        'COMMONPROGRAMFILES(X86)': 'C:\\\\Program Files (x86)\\\\Common Files',\n",
       "        'COMMONPROGRAMW6432': 'C:\\\\Program Files\\\\Common Files',\n",
       "        'COMPUTERNAME': 'KIRTAN',\n",
       "        'COMSPEC': 'C:\\\\WINDOWS\\\\system32\\\\cmd.exe',\n",
       "        'CONDA_DEFAULT_ENV': 'pytorch',\n",
       "        'CONDA_EXE': 'C:\\\\Users\\\\kanan\\\\anaconda3\\\\Scripts\\\\conda.exe',\n",
       "        'CONDA_PREFIX': 'C:\\\\Users\\\\kanan\\\\anaconda3\\\\envs\\\\pytorch',\n",
       "        'CONDA_PREFIX_1': 'C:\\\\Users\\\\kanan\\\\anaconda3',\n",
       "        'CONDA_PROMPT_MODIFIER': '(pytorch) ',\n",
       "        'CONDA_PYTHON_EXE': 'C:\\\\Users\\\\kanan\\\\anaconda3\\\\python.exe',\n",
       "        'CONDA_SHLVL': '2',\n",
       "        'CUDA_LAUNCH_BLOCKING': '1',\n",
       "        'CUDA_PATH': 'C:\\\\Program Files\\\\NVIDIA GPU Computing Toolkit\\\\CUDA\\\\v11.1',\n",
       "        'CUDA_PATH_V11_1': 'C:\\\\Program Files\\\\NVIDIA GPU Computing Toolkit\\\\CUDA\\\\v11.1',\n",
       "        'DRIVERDATA': 'C:\\\\Windows\\\\System32\\\\Drivers\\\\DriverData',\n",
       "        'HOMEDRIVE': 'C:',\n",
       "        'HOMEPATH': '\\\\Users\\\\kanan',\n",
       "        'LOCALAPPDATA': 'C:\\\\Users\\\\kanan\\\\AppData\\\\Local',\n",
       "        'LOGONSERVER': '\\\\\\\\KIRTAN',\n",
       "        'NUMBER_OF_PROCESSORS': '12',\n",
       "        'NVCUDASAMPLES11_1_ROOT': 'C:\\\\ProgramData\\\\NVIDIA Corporation\\\\CUDA Samples\\\\v11.1',\n",
       "        'NVCUDASAMPLES_ROOT': 'C:\\\\ProgramData\\\\NVIDIA Corporation\\\\CUDA Samples\\\\v11.1',\n",
       "        'NVTOOLSEXT_PATH': 'C:\\\\Program Files\\\\NVIDIA Corporation\\\\NvToolsExt\\\\',\n",
       "        'ONEDRIVE': 'C:\\\\Users\\\\kanan\\\\OneDrive',\n",
       "        'ONEDRIVECONSUMER': 'C:\\\\Users\\\\kanan\\\\OneDrive',\n",
       "        'OS': 'Windows_NT',\n",
       "        'PATH': 'C:\\\\Users\\\\kanan\\\\anaconda3\\\\envs\\\\pytorch;C:\\\\Users\\\\kanan\\\\anaconda3\\\\envs\\\\pytorch\\\\Library\\\\mingw-w64\\\\bin;C:\\\\Users\\\\kanan\\\\anaconda3\\\\envs\\\\pytorch\\\\Library\\\\usr\\\\bin;C:\\\\Users\\\\kanan\\\\anaconda3\\\\envs\\\\pytorch\\\\Library\\\\bin;C:\\\\Users\\\\kanan\\\\anaconda3\\\\envs\\\\pytorch\\\\Scripts;C:\\\\Users\\\\kanan\\\\anaconda3\\\\envs\\\\pytorch\\\\bin;C:\\\\Users\\\\kanan\\\\anaconda3\\\\condabin;C:\\\\Program Files\\\\NVIDIA GPU Computing Toolkit\\\\CUDA\\\\v11.1\\\\bin;C:\\\\Program Files\\\\NVIDIA GPU Computing Toolkit\\\\CUDA\\\\v11.1\\\\libnvvp;.;C:\\\\Python39\\\\Scripts;C:\\\\Python39;C:\\\\WINDOWS\\\\system32;C:\\\\WINDOWS;C:\\\\WINDOWS\\\\System32\\\\Wbem;C:\\\\WINDOWS\\\\System32\\\\WindowsPowerShell\\\\v1.0;C:\\\\WINDOWS\\\\System32\\\\OpenSSH;C:\\\\Program Files (x86)\\\\IncrediBuild;C:\\\\Program Files\\\\Polyspace\\\\R2019b\\\\runtime\\\\win64;C:\\\\Program Files\\\\Polyspace\\\\R2019b\\\\bin;C:\\\\Program Files\\\\Polyspace\\\\R2019b\\\\polyspace\\\\bin;C:\\\\ProgramData\\\\chocolatey\\\\bin;C:\\\\Program Files\\\\nodejs;C:\\\\WINDOWS\\\\system32;C:\\\\WINDOWS;C:\\\\WINDOWS\\\\System32\\\\Wbem;C:\\\\WINDOWS\\\\System32\\\\WindowsPowerShell\\\\v1.0;C:\\\\WINDOWS\\\\System32\\\\OpenSSH;C:\\\\Program Files\\\\Git\\\\cmd;C:\\\\Program Files (x86)\\\\Intel\\\\Intel(R) Management Engine Components\\\\DAL;C:\\\\Program Files\\\\Intel\\\\Intel(R) Management Engine Components\\\\DAL;C:\\\\Program Files\\\\NVIDIA Corporation\\\\Nsight Compute 2020.2.1;C:\\\\Program Files (x86)\\\\NVIDIA Corporation\\\\PhysX\\\\Common;C:\\\\Program Files\\\\NVIDIA Corporation\\\\NVIDIA NvDLISR;C:\\\\Users\\\\kanan\\\\anaconda3;C:\\\\Users\\\\kanan\\\\anaconda3\\\\Library\\\\mingw-w64\\\\bin;C:\\\\Users\\\\kanan\\\\anaconda3\\\\Library\\\\usr\\\\bin;C:\\\\Users\\\\kanan\\\\anaconda3\\\\Library\\\\bin;C:\\\\Users\\\\kanan\\\\anaconda3\\\\Scripts;C:\\\\Users\\\\kanan\\\\AppData\\\\Local\\\\Microsoft\\\\WindowsApps;C:\\\\Program Files\\\\JetBrains\\\\PyCharm Community Edition 2020.2.3\\\\bin;.;C:\\\\Users\\\\kanan\\\\AppData\\\\Local\\\\Programs\\\\Microsoft VS Code\\\\bin;C:\\\\Program Files\\\\NVIDIA GPU Computing Toolkit\\\\CUDA\\\\v11.0\\\\bin;C:\\\\Program Files\\\\NVIDIA GPU Computing Toolkit\\\\CUDA\\\\v11.0\\\\libnvvp;c:\\\\users\\\\kanan\\\\anaconda3\\\\lib\\\\site-packages;C:\\\\Users\\\\kanan\\\\AppData\\\\Roaming\\\\npm;C:\\\\Users\\\\kanan\\\\geopandas;C:\\\\Users\\\\kanan\\\\geopandas\\\\geopandas;C:\\\\Program Files\\\\NVIDIA GPU Computing Toolkit\\\\CUDA\\\\v11.2\\\\bin;C:\\\\Program Files\\\\NVIDIA GPU Computing Toolkit\\\\CUDA\\\\v11.2\\\\libnvvp',\n",
       "        'PATHEXT': '.COM;.EXE;.BAT;.CMD;.VBS;.VBE;.JS;.JSE;.WSF;.WSH;.MSC',\n",
       "        'PROCESSOR_ARCHITECTURE': 'AMD64',\n",
       "        'PROCESSOR_IDENTIFIER': 'Intel64 Family 6 Model 158 Stepping 10, GenuineIntel',\n",
       "        'PROCESSOR_LEVEL': '6',\n",
       "        'PROCESSOR_REVISION': '9e0a',\n",
       "        'PROGRAMDATA': 'C:\\\\ProgramData',\n",
       "        'PROGRAMFILES': 'C:\\\\Program Files',\n",
       "        'PROGRAMFILES(X86)': 'C:\\\\Program Files (x86)',\n",
       "        'PROGRAMW6432': 'C:\\\\Program Files',\n",
       "        'PROMPT': '(pytorch) $P$G',\n",
       "        'PSMODULEPATH': 'C:\\\\Program Files\\\\WindowsPowerShell\\\\Modules;C:\\\\WINDOWS\\\\system32\\\\WindowsPowerShell\\\\v1.0\\\\Modules',\n",
       "        'PUBLIC': 'C:\\\\Users\\\\Public',\n",
       "        'PYCHARM COMMUNITY EDITION': 'C:\\\\Program Files\\\\JetBrains\\\\PyCharm Community Edition 2020.2.3\\\\bin;',\n",
       "        'SESSIONNAME': 'Console',\n",
       "        'SYSTEMDRIVE': 'C:',\n",
       "        'SYSTEMROOT': 'C:\\\\WINDOWS',\n",
       "        'TEMP': 'C:\\\\Users\\\\kanan\\\\AppData\\\\Local\\\\Temp',\n",
       "        'TMP': 'C:\\\\Users\\\\kanan\\\\AppData\\\\Local\\\\Temp',\n",
       "        'USERDOMAIN': 'KIRTAN',\n",
       "        'USERDOMAIN_ROAMINGPROFILE': 'KIRTAN',\n",
       "        'USERNAME': 'kanan',\n",
       "        'USERPROFILE': 'C:\\\\Users\\\\kanan',\n",
       "        'VS140COMNTOOLS': 'C:\\\\Program Files (x86)\\\\Microsoft Visual Studio 14.0\\\\Common7\\\\Tools\\\\',\n",
       "        'WINDIR': 'C:\\\\WINDOWS',\n",
       "        'ZES_ENABLE_SYSMAN': '1',\n",
       "        'JPY_INTERRUPT_EVENT': '3396',\n",
       "        'IPY_INTERRUPT_EVENT': '3396',\n",
       "        'JPY_PARENT_PID': '3484',\n",
       "        'TERM': 'xterm-color',\n",
       "        'CLICOLOR': '1',\n",
       "        'PAGER': 'cat',\n",
       "        'GIT_PAGER': 'cat',\n",
       "        'MPLBACKEND': 'module://ipykernel.pylab.backend_inline'}"
      ]
     },
     "execution_count": 4,
     "metadata": {},
     "output_type": "execute_result"
    }
   ],
   "source": [
    "os.environ"
   ]
  },
  {
   "cell_type": "code",
   "execution_count": null,
   "id": "411b4f25",
   "metadata": {},
   "outputs": [],
   "source": []
  },
  {
   "cell_type": "code",
   "execution_count": 5,
   "id": "8753c922",
   "metadata": {},
   "outputs": [],
   "source": [
    "class Discriminator(nn.Module):\n",
    "    def __init__(self,in_features):\n",
    "        super().__init__()\n",
    "        self.disc = nn.Sequential(\n",
    "            nn.Linear(in_features,128),\n",
    "            nn.LeakyReLU(0.1),\n",
    "            nn.Linear(128,1),\n",
    "            nn.Sigmoid(),\n",
    "        )\n",
    "    def forward(self,x):\n",
    "        return self.disc(x)"
   ]
  },
  {
   "cell_type": "code",
   "execution_count": 6,
   "id": "64024cb2",
   "metadata": {},
   "outputs": [],
   "source": [
    "class Generator(nn.Module):\n",
    "    def __init__(self,z_dim,img_dims):\n",
    "        super().__init__()\n",
    "        self.gen = nn.Sequential(\n",
    "            nn.Linear(z_dim,256),\n",
    "            nn.LeakyReLU(0.1),\n",
    "            nn.Linear(256,img_dims),\n",
    "            nn.Tanh()\n",
    "        )\n",
    "    def forward(self,x):\n",
    "        return self.gen(x)"
   ]
  },
  {
   "cell_type": "code",
   "execution_count": 7,
   "id": "f6fc6416",
   "metadata": {},
   "outputs": [],
   "source": [
    "device = \"cuda\" if torch.cuda.is_available() else \"cpu\""
   ]
  },
  {
   "cell_type": "code",
   "execution_count": 8,
   "id": "2c78b827",
   "metadata": {},
   "outputs": [],
   "source": [
    "lr = 3e-4\n",
    "z_dim=64\n",
    "img_dims = 28*28*1\n",
    "batch_size=32\n",
    "num_epochs=50"
   ]
  },
  {
   "cell_type": "code",
   "execution_count": 9,
   "id": "90306d6f",
   "metadata": {},
   "outputs": [],
   "source": [
    "disc= Discriminator(img_dims).to(device)\n",
    "gen = Generator(z_dim,img_dims).to(device)\n",
    "fixed_noise = torch.randn((batch_size,z_dim)).to(device)\n",
    "transforms= transforms.Compose(\n",
    "        [transforms.ToTensor(),transforms.Normalize((0.1307,),(0.3081,))]\n",
    "        )"
   ]
  },
  {
   "cell_type": "code",
   "execution_count": 10,
   "id": "53f3d82d",
   "metadata": {},
   "outputs": [],
   "source": [
    "dataset=datasets.MNIST(root=\"dataset/\",transform= transforms,download= True)\n",
    "loader= DataLoader(dataset,batch_size = batch_size,shuffle= True)\n",
    "optim_disc=optim.Adam(disc.parameters(),lr=lr)\n",
    "optim_gen = optim.Adam(gen.parameters(),lr=lr)\n",
    "criterion = nn.BCELoss()"
   ]
  },
  {
   "cell_type": "code",
   "execution_count": 11,
   "id": "16511bb0",
   "metadata": {},
   "outputs": [],
   "source": [
    "writer_fake = SummaryWriter(f\"runs/GAN_MNIST/fake\")\n",
    "writer_real = SummaryWriter(f\"runs/GAN_MNIST/real\")"
   ]
  },
  {
   "cell_type": "code",
   "execution_count": 15,
   "id": "82fa0cb1",
   "metadata": {},
   "outputs": [],
   "source": [
    "steps=0"
   ]
  },
  {
   "cell_type": "code",
   "execution_count": 20,
   "id": "3ab0972c",
   "metadata": {},
   "outputs": [
    {
     "name": "stdout",
     "output_type": "stream",
     "text": [
      "Epoch [0/50] Batch 0/1875                 Loss D : 0.1005 , loosG: 3.4196\n",
      "Epoch [1/50] Batch 0/1875                 Loss D : 0.1307 , loosG: 3.6059\n",
      "Epoch [2/50] Batch 0/1875                 Loss D : 0.0442 , loosG: 3.5541\n",
      "Epoch [3/50] Batch 0/1875                 Loss D : 0.0310 , loosG: 3.7329\n",
      "Epoch [4/50] Batch 0/1875                 Loss D : 0.0132 , loosG: 5.1319\n",
      "Epoch [5/50] Batch 0/1875                 Loss D : 0.0490 , loosG: 5.2856\n",
      "Epoch [6/50] Batch 0/1875                 Loss D : 0.0378 , loosG: 4.4586\n",
      "Epoch [7/50] Batch 0/1875                 Loss D : 0.1150 , loosG: 5.5717\n",
      "Epoch [8/50] Batch 0/1875                 Loss D : 0.0207 , loosG: 4.6727\n",
      "Epoch [9/50] Batch 0/1875                 Loss D : 0.0094 , loosG: 5.1724\n",
      "Epoch [10/50] Batch 0/1875                 Loss D : 0.0063 , loosG: 5.6917\n",
      "Epoch [11/50] Batch 0/1875                 Loss D : 0.0146 , loosG: 6.1333\n",
      "Epoch [12/50] Batch 0/1875                 Loss D : 0.0117 , loosG: 4.6335\n",
      "Epoch [13/50] Batch 0/1875                 Loss D : 0.0108 , loosG: 5.7892\n",
      "Epoch [14/50] Batch 0/1875                 Loss D : 0.0121 , loosG: 5.5780\n",
      "Epoch [15/50] Batch 0/1875                 Loss D : 0.0035 , loosG: 6.2396\n",
      "Epoch [16/50] Batch 0/1875                 Loss D : 0.0156 , loosG: 5.6187\n",
      "Epoch [17/50] Batch 0/1875                 Loss D : 0.0358 , loosG: 7.0269\n",
      "Epoch [18/50] Batch 0/1875                 Loss D : 0.0464 , loosG: 6.2880\n",
      "Epoch [19/50] Batch 0/1875                 Loss D : 0.0340 , loosG: 6.5303\n",
      "Epoch [20/50] Batch 0/1875                 Loss D : 0.0115 , loosG: 6.0348\n",
      "Epoch [21/50] Batch 0/1875                 Loss D : 0.0054 , loosG: 7.4580\n",
      "Epoch [22/50] Batch 0/1875                 Loss D : 0.0004 , loosG: 8.1802\n",
      "Epoch [23/50] Batch 0/1875                 Loss D : 0.0070 , loosG: 6.9506\n",
      "Epoch [24/50] Batch 0/1875                 Loss D : 0.0063 , loosG: 8.9980\n",
      "Epoch [25/50] Batch 0/1875                 Loss D : 0.0030 , loosG: 6.6274\n",
      "Epoch [26/50] Batch 0/1875                 Loss D : 0.0055 , loosG: 7.7703\n",
      "Epoch [27/50] Batch 0/1875                 Loss D : 0.0021 , loosG: 7.6158\n",
      "Epoch [28/50] Batch 0/1875                 Loss D : 0.0038 , loosG: 6.8436\n",
      "Epoch [29/50] Batch 0/1875                 Loss D : 0.0081 , loosG: 7.6648\n",
      "Epoch [30/50] Batch 0/1875                 Loss D : 0.0015 , loosG: 7.4307\n",
      "Epoch [31/50] Batch 0/1875                 Loss D : 0.0379 , loosG: 6.4957\n",
      "Epoch [32/50] Batch 0/1875                 Loss D : 0.0052 , loosG: 5.9167\n",
      "Epoch [33/50] Batch 0/1875                 Loss D : 0.0010 , loosG: 9.4141\n",
      "Epoch [34/50] Batch 0/1875                 Loss D : 0.0073 , loosG: 6.7327\n",
      "Epoch [35/50] Batch 0/1875                 Loss D : 0.0026 , loosG: 8.9578\n",
      "Epoch [36/50] Batch 0/1875                 Loss D : 0.0044 , loosG: 6.5370\n",
      "Epoch [37/50] Batch 0/1875                 Loss D : 0.0037 , loosG: 7.3898\n",
      "Epoch [38/50] Batch 0/1875                 Loss D : 0.0021 , loosG: 7.3891\n",
      "Epoch [39/50] Batch 0/1875                 Loss D : 0.0729 , loosG: 6.8499\n",
      "Epoch [40/50] Batch 0/1875                 Loss D : 0.0025 , loosG: 9.5188\n",
      "Epoch [41/50] Batch 0/1875                 Loss D : 0.0022 , loosG: 7.2232\n",
      "Epoch [42/50] Batch 0/1875                 Loss D : 0.0031 , loosG: 7.7120\n",
      "Epoch [43/50] Batch 0/1875                 Loss D : 0.0015 , loosG: 7.7428\n",
      "Epoch [44/50] Batch 0/1875                 Loss D : 0.0001 , loosG: 10.5952\n",
      "Epoch [45/50] Batch 0/1875                 Loss D : 0.0234 , loosG: 7.8435\n",
      "Epoch [46/50] Batch 0/1875                 Loss D : 0.0033 , loosG: 7.7791\n",
      "Epoch [47/50] Batch 0/1875                 Loss D : 0.0007 , loosG: 8.9840\n",
      "Epoch [48/50] Batch 0/1875                 Loss D : 0.0006 , loosG: 9.7444\n",
      "Epoch [49/50] Batch 0/1875                 Loss D : 0.0017 , loosG: 8.1354\n"
     ]
    }
   ],
   "source": [
    "for epoch in range(num_epochs):\n",
    "    for batch_index,(real,_) in enumerate(loader):\n",
    "        \n",
    "        real = real.reshape(-1,784).to(device)\n",
    "        batch_size = real.shape[0]\n",
    "        noise = torch.randn(batch_size,z_dim).to(device)\n",
    "        fake = gen(noise)\n",
    "        disc_real = disc(real).view(-1)\n",
    "        loosD_real = criterion(disc_real,torch.ones_like(disc_real))\n",
    "        disc_fake = disc(fake).view(-1)\n",
    "        loosD_fake = criterion(disc_fake,torch.zeros_like(disc_fake))\n",
    "        loosD = (loosD_fake + loosD_real)/2\n",
    "        disc.zero_grad()\n",
    "        loosD.backward(retain_graph = True)\n",
    "        optim_disc.step()\n",
    "        output= disc(fake).view(-1)\n",
    "        loosG= criterion(output,torch.ones_like(output))\n",
    "        gen.zero_grad()\n",
    "        loosG.backward()\n",
    "        optim_gen.step()\n",
    "    \n",
    "        if batch_index == 0:\n",
    "            print(\n",
    "                f\"Epoch [{epoch}/{num_epochs}] Batch {batch_index}/{len(loader)} \\\n",
    "                Loss D : {loosD:.4f} , loosG: {loosG:.4f}\"\n",
    "            )\n",
    "            with torch.no_grad():\n",
    "                fake = gen(fixed_noise).reshape(-1,1,28,28)\n",
    "                data = real.reshape(-1,1,28,28)\n",
    "                image_grid_fake = torchvision.utils.make_grid(fake,normalize=True)\n",
    "                image_grid_real = torchvision.utils.make_grid(data,normalize = True)\n",
    "                \n",
    "                writer_fake.add_image(\"Mnist fake image\" , image_grid_fake, global_step = steps)\n",
    "                writer_real.add_image(\"Mnist real image\" , image_grid_real, global_step = steps)\n",
    "                \n",
    "                steps +=1\n",
    "                \n",
    "                \n",
    "        "
   ]
  },
  {
   "cell_type": "code",
   "execution_count": 21,
   "id": "3cbad24f",
   "metadata": {},
   "outputs": [
    {
     "name": "stdout",
     "output_type": "stream",
     "text": [
      "1.8.1\n"
     ]
    }
   ],
   "source": [
    "print(torch.__version__)"
   ]
  },
  {
   "cell_type": "code",
   "execution_count": 22,
   "id": "0d5ddfec",
   "metadata": {},
   "outputs": [],
   "source": [
    "!pip install -q tb-nightly"
   ]
  },
  {
   "cell_type": "code",
   "execution_count": 25,
   "id": "8b4a98e4",
   "metadata": {},
   "outputs": [
    {
     "name": "stdout",
     "output_type": "stream",
     "text": [
      "^C\n"
     ]
    }
   ],
   "source": [
    "!tensorboard --logdir runs"
   ]
  },
  {
   "cell_type": "code",
   "execution_count": 26,
   "id": "9fdc53e5",
   "metadata": {},
   "outputs": [
    {
     "data": {
      "text/plain": [
       "Reusing TensorBoard on port 6006 (pid 21152), started 1:40:40 ago. (Use '!kill 21152' to kill it.)"
      ]
     },
     "metadata": {},
     "output_type": "display_data"
    },
    {
     "data": {
      "text/html": [
       "\n",
       "      <iframe id=\"tensorboard-frame-8c0a4703fb2f76a\" width=\"100%\" height=\"800\" frameborder=\"0\">\n",
       "      </iframe>\n",
       "      <script>\n",
       "        (function() {\n",
       "          const frame = document.getElementById(\"tensorboard-frame-8c0a4703fb2f76a\");\n",
       "          const url = new URL(\"/\", window.location);\n",
       "          const port = 6006;\n",
       "          if (port) {\n",
       "            url.port = port;\n",
       "          }\n",
       "          frame.src = url;\n",
       "        })();\n",
       "      </script>\n",
       "    "
      ],
      "text/plain": [
       "<IPython.core.display.HTML object>"
      ]
     },
     "metadata": {},
     "output_type": "display_data"
    }
   ],
   "source": [
    "%load_ext tensorboard\n",
    "%tensorboard --logdir runs"
   ]
  },
  {
   "cell_type": "code",
   "execution_count": null,
   "id": "68cf2e91",
   "metadata": {},
   "outputs": [],
   "source": []
  },
  {
   "cell_type": "code",
   "execution_count": null,
   "id": "acfdefd9",
   "metadata": {},
   "outputs": [],
   "source": []
  },
  {
   "cell_type": "code",
   "execution_count": null,
   "id": "2656a9ba",
   "metadata": {},
   "outputs": [],
   "source": []
  }
 ],
 "metadata": {
  "kernelspec": {
   "display_name": "Python 3",
   "language": "python",
   "name": "python3"
  },
  "language_info": {
   "codemirror_mode": {
    "name": "ipython",
    "version": 3
   },
   "file_extension": ".py",
   "mimetype": "text/x-python",
   "name": "python",
   "nbconvert_exporter": "python",
   "pygments_lexer": "ipython3",
   "version": "3.8.8"
  }
 },
 "nbformat": 4,
 "nbformat_minor": 5
}
