{
 "cells": [
  {
   "cell_type": "code",
   "execution_count": 20,
   "id": "54a011d8",
   "metadata": {},
   "outputs": [],
   "source": [
    "import torch\n",
    "import torch.nn as nn\n"
   ]
  },
  {
   "cell_type": "code",
   "execution_count": 91,
   "id": "c2b88423",
   "metadata": {},
   "outputs": [],
   "source": [
    "class Block(nn.Module):\n",
    "    def __init__(self,in_channels,out_channels,kernel_size, stride, padding,activation=\"LeakyReLU\",generator=False):\n",
    "        super().__init__()\n",
    "        if generator:\n",
    "            self.x = nn.ConvTranspose2d(in_channels,out_channels,kernel_size,stride,padding,bias=False)\n",
    "        else:\n",
    "            self.x = nn.Conv2d(in_channels,out_channels,kernel_size,stride,padding,bias=False)\n",
    "        self.norm = nn.BatchNorm2d(out_channels)\n",
    "        if activation ==\"Relu\":\n",
    "            self.activation = nn.ReLU()\n",
    "        else:\n",
    "            self.activation=nn.LeakyReLU(0.2)\n",
    "    \n",
    "    def forward(self,x):\n",
    "        y = self.x(x)\n",
    "        y = self.norm(y)\n",
    "        y = self.activation(y)\n",
    "        return y\n",
    "        \n",
    "        "
   ]
  },
  {
   "cell_type": "code",
   "execution_count": 92,
   "id": "2387d0f8",
   "metadata": {},
   "outputs": [],
   "source": [
    "class Discriminator(nn.Module):\n",
    "    def __init__(self,channels_img,features_d):\n",
    "        super().__init__()\n",
    "        self.disc = nn.Sequential( \n",
    "            nn.Conv2d(channels_img,features_d,kernel_size=4,stride=2,padding=1),\n",
    "            nn.LeakyReLU(0.2),\n",
    "            Block(features_d,features_d*2,4,2,1),\n",
    "            Block(features_d*2,features_d*4,4,2,1),\n",
    "            Block(features_d*4,features_d*8,4,2,1),\n",
    "            nn.Conv2d(features_d*8,1,kernel_size=4,stride = 2 , padding =0),\n",
    "            nn.Sigmoid()\n",
    "        )\n",
    "        \n",
    "    def forward(self,x):\n",
    "        return self.disc(x)"
   ]
  },
  {
   "cell_type": "code",
   "execution_count": 93,
   "id": "7d1d413e",
   "metadata": {},
   "outputs": [],
   "source": [
    "class Generator(nn.Module):\n",
    "    def __init__(self,z_dims,channels_img,features_g):\n",
    "        super().__init__()\n",
    "        self.gen= nn.Sequential(\n",
    "            Block(z_dims,features_g*16,4,1,0,\"Relu\",True),\n",
    "            Block(features_g*16,features_g*8,4,2,1,\"Relu\",True),\n",
    "            Block(features_g*8,features_g*4,4,2,1,\"Relu\",True),\n",
    "            Block(features_g*4,features_g*2,4,2,1,\"Relu\",True),\n",
    "            nn.ConvTranspose2d(features_g*2,channels_img,kernel_size=4,stride=2,padding=1),\n",
    "            nn.Tanh()\n",
    "        )\n",
    "    \n",
    "    def forward(self,x):\n",
    "        return self.gen(x)\n",
    "        \n",
    "         "
   ]
  },
  {
   "cell_type": "code",
   "execution_count": 94,
   "id": "6d8c80b6",
   "metadata": {},
   "outputs": [],
   "source": [
    "def initialize_weights(model):\n",
    "    for m in model.modules():\n",
    "        if isinstance(m,(nn.Conv2d,nn.ConvTranspose2d,nn.BatchNorm2d)):\n",
    "            nn.init.normal_(m.weight.data,0.0,0.02)\n"
   ]
  },
  {
   "cell_type": "code",
   "execution_count": 95,
   "id": "fa6ad47e",
   "metadata": {},
   "outputs": [],
   "source": [
    "def test():\n",
    "    N,in_channels,H,W = 10,3,64,64\n",
    "    z_dims = 100\n",
    "    x= torch.randn(N,in_channels,H,W)\n",
    "    disc = Discriminator(in_channels,8)\n",
    "    initialize_weights(disc)\n",
    "    print(disc(x).shape)\n",
    "    gen = Generator(z_dims,in_channels,8)\n",
    "    z=torch.randn((N,z_dims,1,1))\n",
    "    print(gen(z).shape)"
   ]
  },
  {
   "cell_type": "code",
   "execution_count": 96,
   "id": "e405cb90",
   "metadata": {},
   "outputs": [
    {
     "name": "stdout",
     "output_type": "stream",
     "text": [
      "torch.Size([10, 1, 1, 1])\n",
      "torch.Size([10, 3, 64, 64])\n"
     ]
    }
   ],
   "source": [
    "test()"
   ]
  },
  {
   "cell_type": "code",
   "execution_count": null,
   "id": "3b60c24e",
   "metadata": {},
   "outputs": [],
   "source": []
  }
 ],
 "metadata": {
  "kernelspec": {
   "display_name": "Python 3",
   "language": "python",
   "name": "python3"
  },
  "language_info": {
   "codemirror_mode": {
    "name": "ipython",
    "version": 3
   },
   "file_extension": ".py",
   "mimetype": "text/x-python",
   "name": "python",
   "nbconvert_exporter": "python",
   "pygments_lexer": "ipython3",
   "version": "3.8.8"
  }
 },
 "nbformat": 4,
 "nbformat_minor": 5
}
