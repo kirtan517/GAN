{
 "cells": [
  {
   "cell_type": "code",
   "execution_count": 40,
   "id": "797cd208",
   "metadata": {},
   "outputs": [],
   "source": [
    "import torch\n",
    "import torch.nn as nn\n",
    "import torch.optim as optim\n",
    "import torchvision\n",
    "import torchvision.datasets as datasets\n",
    "import torchvision.transforms as transforms\n",
    "from torch.utils.data import DataLoader\n",
    "from torch.utils.tensorboard import SummaryWriter\n",
    "from model import Discriminator,Generator,initialize_weights"
   ]
  },
  {
   "cell_type": "code",
   "execution_count": 41,
   "id": "40a9c091",
   "metadata": {},
   "outputs": [],
   "source": [
    "device = torch.device(\"cuda\" if torch.cuda.is_available else \"cpu\")"
   ]
  },
  {
   "cell_type": "code",
   "execution_count": 42,
   "id": "f4ddeb94",
   "metadata": {},
   "outputs": [],
   "source": [
    "LEARNING_RATE = 2e-4\n",
    "BATCH_SIZE = 128\n",
    "IMAGE_SIZE = 64\n",
    "CHANNELS_IMG = 1\n",
    "Z_DIMS = 100\n",
    "NUM_EPOCHS = 10\n",
    "FEATURES_DISC = 64 \n",
    "FEATURES_GEN = 64\n"
   ]
  },
  {
   "cell_type": "code",
   "execution_count": 43,
   "id": "8377f171",
   "metadata": {},
   "outputs": [],
   "source": [
    "transforms = transforms.Compose(\n",
    "    [\n",
    "        transforms.Resize(IMAGE_SIZE),\n",
    "        transforms.ToTensor(),\n",
    "        transforms.Normalize(\n",
    "        [0.5 for _ in range(CHANNELS_IMG)],[0.5 for _ in range(CHANNELS_IMG)])\n",
    "    ]\n",
    ")"
   ]
  },
  {
   "cell_type": "code",
   "execution_count": 44,
   "id": "a511b021",
   "metadata": {},
   "outputs": [],
   "source": [
    "dataset = datasets.MNIST(root=\"dataset/\",train = True,transform = transforms , download = True)"
   ]
  },
  {
   "cell_type": "code",
   "execution_count": 45,
   "id": "425fac55",
   "metadata": {},
   "outputs": [],
   "source": [
    "loader = DataLoader(dataset,batch_size = BATCH_SIZE,shuffle = True)\n",
    "gen = Generator(Z_DIMS,CHANNELS_IMG,FEATURES_GEN).to(device)\n",
    "disc = Discriminator(CHANNELS_IMG,FEATURES_DISC).to(device)\n",
    "initialize_weights(disc)\n",
    "initialize_weights(gen)"
   ]
  },
  {
   "cell_type": "code",
   "execution_count": 46,
   "id": "ae6f3b31",
   "metadata": {},
   "outputs": [],
   "source": [
    "opt_gen = optim.Adam(gen.parameters(),lr = LEARNING_RATE,betas=(0.5,0.999))\n",
    "opt_disc =optim.Adam(disc.parameters(), lr = LEARNING_RATE,betas=(0.5, 0.999))\n",
    "criterion = nn.BCELoss()"
   ]
  },
  {
   "cell_type": "code",
   "execution_count": 47,
   "id": "aa122652",
   "metadata": {},
   "outputs": [],
   "source": [
    "fixed_noise = torch.randn(32,Z_DIMS,1,1).to(device)\n",
    "writer_real = SummaryWriter(f\"logs/real\")\n",
    "writer_fake = SummaryWriter(f\"logs/fake\")"
   ]
  },
  {
   "cell_type": "code",
   "execution_count": 48,
   "id": "c8f88b5d",
   "metadata": {},
   "outputs": [],
   "source": [
    "step =0"
   ]
  },
  {
   "cell_type": "code",
   "execution_count": 49,
   "id": "b7d952bb",
   "metadata": {},
   "outputs": [
    {
     "name": "stdout",
     "output_type": "stream",
     "text": [
      "EPOCH[0/10] Batch 0/469                  Loss D : 0.6996  Loss G : 0.7675\n",
      "EPOCH[0/10] Batch 100/469                  Loss D : 0.0141  Loss G : 4.2005\n",
      "EPOCH[0/10] Batch 200/469                  Loss D : 0.5644  Loss G : 1.0788\n",
      "EPOCH[0/10] Batch 300/469                  Loss D : 0.4615  Loss G : 0.7331\n",
      "EPOCH[0/10] Batch 400/469                  Loss D : 0.5493  Loss G : 1.3310\n",
      "EPOCH[1/10] Batch 0/469                  Loss D : 0.5570  Loss G : 0.9117\n",
      "EPOCH[1/10] Batch 100/469                  Loss D : 0.9003  Loss G : 0.4713\n",
      "EPOCH[1/10] Batch 200/469                  Loss D : 0.6087  Loss G : 1.2770\n",
      "EPOCH[1/10] Batch 300/469                  Loss D : 0.5750  Loss G : 0.4402\n",
      "EPOCH[1/10] Batch 400/469                  Loss D : 0.5538  Loss G : 0.7252\n",
      "EPOCH[2/10] Batch 0/469                  Loss D : 0.5300  Loss G : 0.8303\n",
      "EPOCH[2/10] Batch 100/469                  Loss D : 0.5705  Loss G : 1.0856\n",
      "EPOCH[2/10] Batch 200/469                  Loss D : 0.4916  Loss G : 1.4102\n",
      "EPOCH[2/10] Batch 300/469                  Loss D : 0.3387  Loss G : 1.7866\n",
      "EPOCH[2/10] Batch 400/469                  Loss D : 0.3078  Loss G : 1.8412\n",
      "EPOCH[3/10] Batch 0/469                  Loss D : 0.3577  Loss G : 1.6201\n",
      "EPOCH[3/10] Batch 100/469                  Loss D : 0.3247  Loss G : 3.0007\n",
      "EPOCH[3/10] Batch 200/469                  Loss D : 0.3679  Loss G : 0.6138\n",
      "EPOCH[3/10] Batch 300/469                  Loss D : 0.2613  Loss G : 2.3370\n",
      "EPOCH[3/10] Batch 400/469                  Loss D : 0.2226  Loss G : 0.9982\n",
      "EPOCH[4/10] Batch 0/469                  Loss D : 0.4063  Loss G : 2.2876\n",
      "EPOCH[4/10] Batch 100/469                  Loss D : 0.2730  Loss G : 4.9339\n",
      "EPOCH[4/10] Batch 200/469                  Loss D : 0.1400  Loss G : 2.7091\n",
      "EPOCH[4/10] Batch 300/469                  Loss D : 0.1882  Loss G : 3.3255\n",
      "EPOCH[4/10] Batch 400/469                  Loss D : 0.4588  Loss G : 1.5224\n",
      "EPOCH[5/10] Batch 0/469                  Loss D : 0.5201  Loss G : 1.2426\n",
      "EPOCH[5/10] Batch 100/469                  Loss D : 0.2706  Loss G : 3.1091\n",
      "EPOCH[5/10] Batch 200/469                  Loss D : 0.1559  Loss G : 2.1979\n",
      "EPOCH[5/10] Batch 300/469                  Loss D : 0.1134  Loss G : 3.1832\n",
      "EPOCH[5/10] Batch 400/469                  Loss D : 0.1230  Loss G : 4.3799\n",
      "EPOCH[6/10] Batch 0/469                  Loss D : 0.0771  Loss G : 3.6221\n",
      "EPOCH[6/10] Batch 100/469                  Loss D : 0.1497  Loss G : 4.6624\n",
      "EPOCH[6/10] Batch 200/469                  Loss D : 0.0871  Loss G : 3.4290\n",
      "EPOCH[6/10] Batch 300/469                  Loss D : 0.3201  Loss G : 1.4773\n",
      "EPOCH[6/10] Batch 400/469                  Loss D : 0.0764  Loss G : 2.6959\n",
      "EPOCH[7/10] Batch 0/469                  Loss D : 0.1188  Loss G : 3.1036\n",
      "EPOCH[7/10] Batch 100/469                  Loss D : 0.2894  Loss G : 2.7268\n",
      "EPOCH[7/10] Batch 200/469                  Loss D : 0.0554  Loss G : 3.6518\n",
      "EPOCH[7/10] Batch 300/469                  Loss D : 0.0627  Loss G : 3.8866\n",
      "EPOCH[7/10] Batch 400/469                  Loss D : 0.0675  Loss G : 4.0801\n",
      "EPOCH[8/10] Batch 0/469                  Loss D : 0.0848  Loss G : 3.8659\n",
      "EPOCH[8/10] Batch 100/469                  Loss D : 0.1350  Loss G : 2.8358\n",
      "EPOCH[8/10] Batch 200/469                  Loss D : 0.0213  Loss G : 4.5227\n",
      "EPOCH[8/10] Batch 300/469                  Loss D : 0.0331  Loss G : 3.6826\n",
      "EPOCH[8/10] Batch 400/469                  Loss D : 0.5453  Loss G : 1.1898\n",
      "EPOCH[9/10] Batch 0/469                  Loss D : 0.2245  Loss G : 2.5404\n",
      "EPOCH[9/10] Batch 100/469                  Loss D : 0.1539  Loss G : 2.2961\n",
      "EPOCH[9/10] Batch 200/469                  Loss D : 0.1858  Loss G : 4.0547\n",
      "EPOCH[9/10] Batch 300/469                  Loss D : 0.0392  Loss G : 4.0464\n",
      "EPOCH[9/10] Batch 400/469                  Loss D : 0.6321  Loss G : 0.9438\n"
     ]
    }
   ],
   "source": [
    "gen.train()\n",
    "disc.train()\n",
    "\n",
    "for epoch in range(NUM_EPOCHS):\n",
    "    for batch_idx , (real, _) in enumerate(loader):\n",
    "        \n",
    "        real = real.to(device)\n",
    "        noise = torch.randn(BATCH_SIZE,Z_DIMS,1,1).to(device)\n",
    "        fake = gen(noise)\n",
    "        \n",
    "        disc_real = disc(real).reshape(-1)\n",
    "        loss_disc_real = criterion(disc_real , torch.ones_like(disc_real))\n",
    "        disc_fake = disc(fake.detach()).reshape(-1)\n",
    "        loss_disc_fake = criterion(disc_fake, torch.zeros_like(disc_fake))\n",
    "        \n",
    "        loss_disc = (loss_disc_real + loss_disc_fake)/2\n",
    "        disc.zero_grad()\n",
    "        loss_disc.backward()\n",
    "        opt_disc.step()\n",
    "        \n",
    "        output = disc(fake).reshape(-1)\n",
    "        loss_gen = criterion(output, torch.ones_like(output))\n",
    "        gen.zero_grad()\n",
    "        loss_gen.backward()\n",
    "        opt_gen.step()\n",
    "        \n",
    "        if batch_idx %100 == 0 :\n",
    "            print(\n",
    "                f\"EPOCH[{epoch}/{NUM_EPOCHS}] Batch {batch_idx}/{len(loader)} \\\n",
    "                 Loss D : {loss_disc:.4f}  Loss G : {loss_gen:.4f}\" \n",
    "            )\n",
    "            with torch.no_grad():\n",
    "                fake = gen(fixed_noise)\n",
    "                img_grid_real= torchvision.utils.make_grid(\n",
    "                     real[:32],normalize = True\n",
    "                 )\n",
    "                img_grid_fake = torchvision.utils.make_grid(\n",
    "                    fake[:32],normalize = True\n",
    "                )\n",
    "                writer_real.add_image(\"Real\",img_grid_real,global_step=step)\n",
    "                writer_fake.add_image(\"fake\",img_grid_fake,global_step= step)\n",
    "                \n",
    "            step +=1\n",
    "        "
   ]
  },
  {
   "cell_type": "code",
   "execution_count": null,
   "id": "05a032e4",
   "metadata": {},
   "outputs": [],
   "source": []
  }
 ],
 "metadata": {
  "kernelspec": {
   "display_name": "Python 3",
   "language": "python",
   "name": "python3"
  },
  "language_info": {
   "codemirror_mode": {
    "name": "ipython",
    "version": 3
   },
   "file_extension": ".py",
   "mimetype": "text/x-python",
   "name": "python",
   "nbconvert_exporter": "python",
   "pygments_lexer": "ipython3",
   "version": "3.8.8"
  }
 },
 "nbformat": 4,
 "nbformat_minor": 5
}
